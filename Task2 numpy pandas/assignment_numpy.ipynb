{
 "cells": [
  {
   "cell_type": "markdown",
   "id": "d3df79dd",
   "metadata": {},
   "source": [
    "## Упражнения по библиотеке Numpy"
   ]
  },
  {
   "cell_type": "code",
   "execution_count": 1,
   "id": "76b9c43b",
   "metadata": {
    "scrolled": true
   },
   "outputs": [],
   "source": [
    "import numpy as np"
   ]
  },
  {
   "cell_type": "markdown",
   "id": "03727b7c",
   "metadata": {},
   "source": [
    "**1.** Дан случайный массив, поменять знак у элементов, значения которых между 3 и 8"
   ]
  },
  {
   "cell_type": "code",
   "execution_count": 2,
   "id": "b89a7523",
   "metadata": {
    "scrolled": true
   },
   "outputs": [
    {
     "name": "stdout",
     "output_type": "stream",
     "text": [
      "[ 0  1  2  3 -4 -5 -6 -7  8  9 10 11 12 13 14 15 16 17 18 19 20 21 22 23\n",
      " 24 25 26 27 28 29 30 31 32 33 34 35 36 37 38 39 40 41]\n"
     ]
    }
   ],
   "source": [
    "m=np.arange(42)\n",
    "m[(3<m) & (m<8)]*=-1\n",
    "print(m)"
   ]
  },
  {
   "cell_type": "markdown",
   "id": "5fa4abda",
   "metadata": {},
   "source": [
    "**2.** Заменить максимальный элемент случайного массива на 0"
   ]
  },
  {
   "cell_type": "code",
   "execution_count": 3,
   "id": "f2788a6e",
   "metadata": {},
   "outputs": [
    {
     "data": {
      "text/plain": [
       "array([0.45987062, 0.58590657, 0.        , 0.63558934, 0.47271477,\n",
       "       0.70484741, 0.8908968 , 0.37845539, 0.57619866, 0.41578434])"
      ]
     },
     "execution_count": 3,
     "metadata": {},
     "output_type": "execute_result"
    }
   ],
   "source": [
    "arr=np.random.random(10)\n",
    "arr[arr.argmax()]=0\n",
    "arr"
   ]
  },
  {
   "cell_type": "markdown",
   "id": "3cac656b",
   "metadata": {},
   "source": [
    "**3.** Построить прямое произведение массивов (все комбинации с каждым элементом). На вход подается двумерный массив"
   ]
  },
  {
   "cell_type": "code",
   "execution_count": 4,
   "id": "3396b764",
   "metadata": {},
   "outputs": [
    {
     "name": "stdout",
     "output_type": "stream",
     "text": [
      "[[1 4 6]\n",
      " [1 4 7]\n",
      " [1 5 6]\n",
      " [1 5 7]\n",
      " [2 4 6]\n",
      " [2 4 7]\n",
      " [2 5 6]\n",
      " [2 5 7]\n",
      " [3 4 6]\n",
      " [3 4 7]\n",
      " [3 5 6]\n",
      " [3 5 7]]\n"
     ]
    }
   ],
   "source": [
    "arrays = ([1, 2, 3], [4, 5], [6, 7])\n",
    "arrays = [np.asarray(a) for a in arrays]\n",
    "shape = map(len, arrays)\n",
    "\n",
    "ix = np.indices(shape)\n",
    "ix = ix.reshape(len(arrays), -1).T\n",
    "\n",
    "for n, arr in enumerate(arrays):\n",
    "    ix[:, n] = arrays[n][ix[:, n]]\n",
    "\n",
    "print(ix)"
   ]
  },
  {
   "cell_type": "markdown",
   "id": "674c9354",
   "metadata": {},
   "source": [
    "**4.** Даны 2 массива A (8x3) и B (2x2). Найти строки в A, которые содержат элементы из каждой строки в B, независимо от порядка элементов в B"
   ]
  },
  {
   "cell_type": "code",
   "execution_count": 5,
   "id": "cb664782",
   "metadata": {},
   "outputs": [
    {
     "name": "stdout",
     "output_type": "stream",
     "text": [
      "[[2 0 1]\n",
      " [0 4 4]\n",
      " [1 1 0]\n",
      " [2 1 3]\n",
      " [2 3 2]\n",
      " [0 0 0]\n",
      " [1 0 4]\n",
      " [0 3 0]]\n",
      "\n",
      "[[4 4]\n",
      " [2 0]]\n",
      "\n",
      "[0 1 4 5 6 7]\n"
     ]
    }
   ],
   "source": [
    "# your code\n",
    "A = np.random.randint(0,5,(8,3))\n",
    "B = np.random.randint(0,5,(2,2))\n",
    "print(A)\n",
    "print()\n",
    "print(B)\n",
    "print()\n",
    "\n",
    "C = (A[..., np.newaxis, np.newaxis] == B)\n",
    "rows = (C.sum(axis=(1,2,3)) >= B.shape[1]).nonzero()[0]\n",
    "print(rows)"
   ]
  },
  {
   "cell_type": "markdown",
   "id": "fa46533b",
   "metadata": {},
   "source": [
    "**5.** Дана 10x3 матрица, найти строки из неравных значений (например строка [2,2,3] остается, строка [3,3,3] удаляется)"
   ]
  },
  {
   "cell_type": "code",
   "execution_count": 6,
   "id": "fa545b23",
   "metadata": {},
   "outputs": [
    {
     "name": "stdout",
     "output_type": "stream",
     "text": [
      "[[9 8 8]\n",
      " [9 8 9]\n",
      " [9 8 8]\n",
      " [9 9 8]\n",
      " [9 8 9]\n",
      " [9 9 8]\n",
      " [9 9 8]\n",
      " [9 9 9]\n",
      " [8 8 8]\n",
      " [9 9 8]]\n",
      "\n",
      "[[9 8 8]\n",
      " [9 8 9]\n",
      " [9 8 8]\n",
      " [9 9 8]\n",
      " [9 8 9]\n",
      " [9 9 8]\n",
      " [9 9 8]\n",
      " [9 9 8]]\n"
     ]
    }
   ],
   "source": [
    "# your code\n",
    "Z = np.random.randint(8,10,(10,3))\n",
    "print(Z)\n",
    "print()\n",
    "\n",
    "E = np.logical_and.reduce(Z[:,1:] == Z[:,:-1], axis=1)\n",
    "U = Z[~E]\n",
    "print(U)"
   ]
  },
  {
   "cell_type": "markdown",
   "id": "28f0d116",
   "metadata": {},
   "source": [
    "**6.** Дан двумерный массив. Удалить те строки, которые повторяются"
   ]
  },
  {
   "cell_type": "code",
   "execution_count": 7,
   "id": "83d2c0b7",
   "metadata": {},
   "outputs": [
    {
     "data": {
      "text/plain": [
       "array([[1, 0, 1, 0, 0, 1],\n",
       "       [1, 0, 1, 0, 1, 1],\n",
       "       [1, 1, 1, 0, 0, 1]])"
      ]
     },
     "execution_count": 7,
     "metadata": {},
     "output_type": "execute_result"
    }
   ],
   "source": [
    "# your code\n",
    "a = [[1, 0, 1, 0, 0, 1],\n",
    "     [1, 1, 1, 0, 0, 1],\n",
    "     [1, 0, 1, 0, 0, 1],\n",
    "     [1, 0, 1, 0, 1, 1],\n",
    "     [1, 0, 1, 0, 0, 1]]\n",
    "\n",
    "b = np.array(a)\n",
    "\n",
    "b=np.unique(b, axis=0)\n",
    "\n",
    "b"
   ]
  },
  {
   "cell_type": "markdown",
   "id": "6daa9e37",
   "metadata": {},
   "source": [
    "______\n",
    "______"
   ]
  },
  {
   "cell_type": "markdown",
   "id": "cfbfcaff",
   "metadata": {},
   "source": [
    "Для каждой из следующих задач (1-5) нужно привести 2 реализации – одна без использования numpy (cчитайте, что там, где на входе или выходе должны быть numpy array, будут просто списки), а вторая полностью векторизованная с использованием numpy (без использования питоновских циклов/map/list comprehension).\n",
    "\n",
    "\n",
    "__Замечание 1.__ Можно считать, что все указанные объекты непустые (к примеру, в __задаче 1__ на диагонали матрицы есть ненулевые элементы).\n",
    "\n",
    "__Замечание 2.__ Для большинства задач решение занимает не больше 1-2 строк."
   ]
  },
  {
   "cell_type": "markdown",
   "id": "673cac7f",
   "metadata": {},
   "source": [
    "___"
   ]
  },
  {
   "cell_type": "markdown",
   "id": "ca6f585e",
   "metadata": {},
   "source": [
    "* __Задача 1__: Подсчитать произведение ненулевых элементов на диагонали прямоугольной матрицы.  \n",
    " Например, для X = np.array([[1, 0, 1], [2, 0, 2], [3, 0, 3], [4, 4, 4]]) ответ 3."
   ]
  },
  {
   "cell_type": "code",
   "execution_count": 8,
   "id": "065862fc",
   "metadata": {},
   "outputs": [
    {
     "name": "stdout",
     "output_type": "stream",
     "text": [
      "3\n",
      "3\n"
     ]
    }
   ],
   "source": [
    "#without numpy\n",
    "X = [[1, 0, 1], [2, 0, 2], [3, 0, 3], [4, 4, 4]]\n",
    "mult=1\n",
    "m = min(len(X), len(X[0]))\n",
    "for i in range(m):\n",
    "    if X[i][i] !=0:\n",
    "        mult*=X[i][i]\n",
    "    i+=1\n",
    "print(mult)\n",
    "\n",
    "#numpy\n",
    "Y = np.array([[1, 0, 1], [2, 0, 2], [3, 0, 3], [4, 4, 4]])\n",
    "print(np.prod(np.diag(Y)[np.diag(Y)!=0]))"
   ]
  },
  {
   "cell_type": "markdown",
   "id": "9fc51d41",
   "metadata": {},
   "source": [
    "* __Задача 2__: Даны два вектора x и y. Проверить, задают ли они одно и то же мультимножество.  \n",
    "  Например, для x = np.array([1, 2, 2, 4]), y = np.array([4, 2, 1, 2]) ответ True."
   ]
  },
  {
   "cell_type": "code",
   "execution_count": 9,
   "id": "a809e02f",
   "metadata": {},
   "outputs": [
    {
     "name": "stdout",
     "output_type": "stream",
     "text": [
      "True\n",
      "True\n"
     ]
    }
   ],
   "source": [
    "x = [1, 2, 2, 4]\n",
    "y = [4, 2, 1, 2]\n",
    "\n",
    "# without numpy\n",
    "print(sorted(x)==sorted(y))\n",
    "\n",
    "#from collections import Counter\n",
    "#print(Counter(x)==Counter(y))\n",
    "\n",
    "# numpy\n",
    "x = np.array([1, 2, 2, 4])\n",
    "y = np.array([4, 2, 1, 2])\n",
    "def are_multisets_equal_vect(x, y):\n",
    "    x_nums, x_counts = np.unique(x, return_counts=True)\n",
    "    y_nums, y_counts = np.unique(y, return_counts=True)\n",
    "    if(np.shape(x_nums) != np.shape(y_nums)):\n",
    "        return False\n",
    "    if(np.any(x_nums != y_nums) or np.any(x_counts != y_counts)):\n",
    "        return False\n",
    "    return True\n",
    "print(are_multisets_equal_vect(x,y))"
   ]
  },
  {
   "cell_type": "markdown",
   "id": "b9c185c7",
   "metadata": {},
   "source": [
    "* __Задача 3__: Найти максимальный элемент в векторе x среди элементов, перед которыми стоит ноль. \n",
    " Например, для x = np.array([6, 2, 0, 3, 0, 0, 5, 7, 0]) ответ 5."
   ]
  },
  {
   "cell_type": "code",
   "execution_count": 10,
   "id": "b57df008",
   "metadata": {},
   "outputs": [
    {
     "name": "stdout",
     "output_type": "stream",
     "text": [
      "5\n",
      "5\n"
     ]
    }
   ],
   "source": [
    "# your code\n",
    "\n",
    "#true python\n",
    "x = [6, 2, 0, 3, 0, 0, 5, 7, 0]\n",
    "print(max(x[i] for i in range(1, len(x)) if not x[i-1]))\n",
    "\n",
    "#numpy aka np\n",
    "x = np.array([6, 2, 0, 3, 0, 0, 5, 7, 0])\n",
    "zero = x==0\n",
    "print(x[1:][zero[:-1]].max())"
   ]
  },
  {
   "cell_type": "markdown",
   "id": "480be4ce",
   "metadata": {},
   "source": [
    "* __Задача 4__: Реализовать кодирование длин серий (Run-length encoding). Для некоторого вектора x необходимо вернуть кортеж из двух векторов одинаковой длины. Первый содержит числа, а второй - сколько раз их нужно повторить.  \n",
    " Например, для x = np.array([2, 2, 2, 3, 3, 3, 5]) ответ (np.array([2, 3, 5]), np.array([3, 3, 1]))."
   ]
  },
  {
   "cell_type": "code",
   "execution_count": 11,
   "id": "3c592124",
   "metadata": {},
   "outputs": [
    {
     "name": "stdout",
     "output_type": "stream",
     "text": [
      "[2 3 5] [3 3 1]\n"
     ]
    }
   ],
   "source": [
    "# your code\n",
    "\n",
    "#numpy \n",
    "x = np.array([2, 2, 2, 3, 3, 3, 5])\n",
    "a=np.unique(x, return_counts=True)\n",
    "print(a[0],a[1])\n",
    "#python\n",
    "x = [2, 2, 2, 3, 3, 3, 5]\n"
   ]
  },
  {
   "cell_type": "markdown",
   "id": "077532ec",
   "metadata": {},
   "source": [
    "* __Задача 5__: Даны две выборки объектов - X и Y. Вычислить матрицу евклидовых расстояний между объектами. Сравните с функцией scipy.spatial.distance.cdist по скорости работы."
   ]
  },
  {
   "cell_type": "code",
   "execution_count": 21,
   "id": "1e807797",
   "metadata": {},
   "outputs": [
    {
     "name": "stdout",
     "output_type": "stream",
     "text": [
      "[[ 7.07106781  8.48528137  9.89949494 11.3137085   9.05538514]\n",
      " [ 5.65685425  7.07106781  8.48528137  9.89949494  8.24621125]\n",
      " [ 4.24264069  5.65685425  7.07106781  8.48528137  7.61577311]\n",
      " [ 2.82842712  4.24264069  5.65685425  7.07106781  7.21110255]\n",
      " [ 1.41421356  2.82842712  4.24264069  5.65685425  7.07106781]]\n",
      "\n",
      "[[ 7.07106781  8.48528137  9.89949494 11.3137085   9.05538514]\n",
      " [ 5.65685425  7.07106781  8.48528137  9.89949494  8.24621125]\n",
      " [ 4.24264069  5.65685425  7.07106781  8.48528137  7.61577311]\n",
      " [ 2.82842712  4.24264069  5.65685425  7.07106781  7.21110255]\n",
      " [ 1.41421356  2.82842712  4.24264069  5.65685425  7.07106781]]\n",
      "\n",
      "[[7.0710678118654755, 8.48528137423857, 9.899494936611665, 11.313708498984761, 9.055385138137417], [5.656854249492381, 7.0710678118654755, 8.48528137423857, 9.899494936611665, 8.246211251235321], [4.242640687119285, 5.656854249492381, 7.0710678118654755, 8.48528137423857, 7.615773105863909], [2.8284271247461903, 4.242640687119285, 5.656854249492381, 7.0710678118654755, 7.211102550927978], [1.4142135623730951, 2.8284271247461903, 4.242640687119285, 5.656854249492381, 7.0710678118654755]]\n"
     ]
    }
   ],
   "source": [
    "# your code\n",
    "#import scipy\n",
    "from scipy.spatial import distance\n",
    "a=np.array([[0,1],[1,2],[2,3],[3,4],[4,5]])\n",
    "b=np.array([[5,6],[6,7],[7,8],[8,9],[9,0]])\n",
    "\n",
    "print(scipy.spatial.distance.cdist(a,b))\n",
    "\n",
    "print()\n",
    "\n",
    "#numpy\n",
    "A=np.array([[0,1],[1,2],[2,3],[3,4],[4,5]])\n",
    "B=np.array([[5,6],[6,7],[7,8],[8,9],[9,0]])\n",
    "\n",
    "matrix=np.zeros((len(A), len(B)))\n",
    "i=0\n",
    "for a in A:\n",
    "    j=0\n",
    "    for b in B:\n",
    "        matrix[i,j]=np.linalg.norm(a-b)\n",
    "        j+=1\n",
    "    i+=1\n",
    "print(matrix)\n",
    "print()\n",
    "\n",
    "#true python\n",
    "A=[[0,1],[1,2],[2,3],[3,4],[4,5]]\n",
    "B=[[5,6],[6,7],[7,8],[8,9],[9,0]]\n",
    "\n",
    "matrix = [0]*len(A)\n",
    "for i in range(len(A)):\n",
    "    matrix[i]=[0]*len(B)\n",
    "i=0\n",
    "for x1,y1 in A:\n",
    "    j=0\n",
    "    for x2,y2 in B:\n",
    "        matrix[i][j]=((x1-x2)**2+(y1-y2)**2)**0.5\n",
    "        j+=1\n",
    "    i+=1\n",
    "print(matrix)\n",
    "\n",
    "\n",
    "#timeit\n",
    "import timeit\n",
    "a=np.array([[0,1],[1,2],[2,3],[3,4],[4,5]])\n",
    "b=np.array([[5,6],[6,7],[7,8],[8,9],[9,0]])\n",
    "#timeit.timeit('scipy.spatial.distance.cdist(a,b)')"
   ]
  },
  {
   "cell_type": "markdown",
   "id": "973e8064",
   "metadata": {},
   "source": [
    "_______\n",
    "________"
   ]
  },
  {
   "cell_type": "markdown",
   "id": "1104acb7",
   "metadata": {},
   "source": [
    "* #### __Задача 6__: CrunchieMunchies __*__\n",
    "\n",
    "Вы работаете в отделе маркетинга пищевой компании MyCrunch, которая разрабатывает новый вид вкусных, полезных злаков под названием **CrunchieMunchies**.\n",
    "\n",
    "Вы хотите продемонстрировать потребителям, насколько полезны ваши хлопья по сравнению с другими ведущими брендами, поэтому вы собрали данные о питании нескольких разных конкурентов.\n",
    "\n",
    "Ваша задача - использовать вычисления Numpy для анализа этих данных и доказать, что ваши **СrunchieMunchies** - самый здоровый выбор для потребителей.\n"
   ]
  },
  {
   "cell_type": "code",
   "execution_count": null,
   "id": "10a77f8d",
   "metadata": {},
   "outputs": [],
   "source": [
    "import numpy as np"
   ]
  },
  {
   "cell_type": "markdown",
   "id": "ab87cb03",
   "metadata": {},
   "source": [
    "1. Просмотрите файл cereal.csv. Этот файл содержит количества калорий для различных марок хлопьев. Загрузите данные из файла и сохраните их как calorie_stats."
   ]
  },
  {
   "cell_type": "code",
   "execution_count": 13,
   "id": "9681ebf2",
   "metadata": {},
   "outputs": [
    {
     "data": {
      "text/plain": [
       "array([ 70., 120.,  70.,  50., 110., 110., 110., 130.,  90.,  90., 120.,\n",
       "       110., 120., 110., 110., 110., 100., 110., 110., 110., 100., 110.,\n",
       "       100., 100., 110., 110., 100., 120., 120., 110., 100., 110., 100.,\n",
       "       110., 120., 120., 110., 110., 110., 140., 110., 100., 110., 100.,\n",
       "       150., 150., 160., 100., 120., 140.,  90., 130., 120., 100.,  50.,\n",
       "        50., 100., 100., 120., 100.,  90., 110., 110.,  80.,  90.,  90.,\n",
       "       110., 110.,  90., 110., 140., 100., 110., 110., 100., 100., 110.])"
      ]
     },
     "execution_count": 13,
     "metadata": {},
     "output_type": "execute_result"
    }
   ],
   "source": [
    "calorie_stats = np.loadtxt(\"data/cereal.csv\", delimiter=\",\")\n",
    "calorie_stats"
   ]
  },
  {
   "cell_type": "markdown",
   "id": "139cfbd8",
   "metadata": {},
   "source": [
    "2. В одной порции CrunchieMunchies содержится 60 калорий. Насколько выше среднее количество калорий у ваших конкурентов?\n",
    "\n",
    "Сохраните ответ в переменной average_calories и распечатайте переменную в терминале"
   ]
  },
  {
   "cell_type": "code",
   "execution_count": 14,
   "id": "7036d240",
   "metadata": {},
   "outputs": [
    {
     "data": {
      "text/plain": [
       "106.88311688311688"
      ]
     },
     "execution_count": 14,
     "metadata": {},
     "output_type": "execute_result"
    }
   ],
   "source": [
    "# your code\n",
    "average_calories=np.average(calorie_stats)\n",
    "average_calories"
   ]
  },
  {
   "cell_type": "markdown",
   "id": "b2ddb4cd",
   "metadata": {},
   "source": [
    "3. Корректно ли среднее количество калорий отражает распределение набора данных? Давайте отсортируем данные и посмотрим.\n",
    "\n",
    "Отсортируйте данные и сохраните результат в переменной calorie_stats_sorted. Распечатайте отсортированную информацию"
   ]
  },
  {
   "cell_type": "code",
   "execution_count": 15,
   "id": "46eeb4ed",
   "metadata": {},
   "outputs": [
    {
     "data": {
      "text/plain": [
       "array([ 50.,  50.,  50.,  70.,  70.,  80.,  90.,  90.,  90.,  90.,  90.,\n",
       "        90.,  90., 100., 100., 100., 100., 100., 100., 100., 100., 100.,\n",
       "       100., 100., 100., 100., 100., 100., 100., 100., 110., 110., 110.,\n",
       "       110., 110., 110., 110., 110., 110., 110., 110., 110., 110., 110.,\n",
       "       110., 110., 110., 110., 110., 110., 110., 110., 110., 110., 110.,\n",
       "       110., 110., 110., 110., 120., 120., 120., 120., 120., 120., 120.,\n",
       "       120., 120., 120., 130., 130., 140., 140., 140., 150., 150., 160.])"
      ]
     },
     "execution_count": 15,
     "metadata": {},
     "output_type": "execute_result"
    }
   ],
   "source": [
    "# your code\n",
    "calorie_stats_sorted=np.sort(calorie_stats)\n",
    "calorie_stats_sorted"
   ]
  },
  {
   "cell_type": "markdown",
   "id": "4dc74116",
   "metadata": {},
   "source": [
    "4. Похоже, что большинство значений выше среднего. Давайте посмотрим, является ли медиана наиболее корректным показателем набора данных.\n",
    "\n",
    "Вычислите медиану набора данных и сохраните свой ответ в median_calories. Выведите медиану, чтобы вы могли видеть, как она сравнивается со средним значением."
   ]
  },
  {
   "cell_type": "code",
   "execution_count": 16,
   "id": "b56627c3",
   "metadata": {},
   "outputs": [
    {
     "data": {
      "text/plain": [
       "110.0"
      ]
     },
     "execution_count": 16,
     "metadata": {},
     "output_type": "execute_result"
    }
   ],
   "source": [
    "# your code\n",
    "median_calories=np.median(calorie_stats_sorted)\n",
    "median_calories"
   ]
  },
  {
   "cell_type": "markdown",
   "id": "a63ab72f",
   "metadata": {},
   "source": [
    "5. В то время как медиана показывает, что по крайней мере половина наших значений составляет более 100 калорий, было бы более впечатляюще показать, что значительная часть конкурентов имеет более высокое количество калорий, чем CrunchieMunchies.\n",
    "\n",
    "Рассчитайте различные процентили и распечатайте их, пока не найдете наименьший процентиль, превышающий 60 калорий. Сохраните это значение в переменной nth_percentile."
   ]
  },
  {
   "cell_type": "code",
   "execution_count": 17,
   "id": "fe80ce03",
   "metadata": {},
   "outputs": [
    {
     "name": "stdout",
     "output_type": "stream",
     "text": [
      "50.0\n",
      "50.0\n",
      "50.0\n",
      "55.599999999999994\n",
      "70.0\n"
     ]
    }
   ],
   "source": [
    "# your code\n",
    "#print(np.percentile(calorie_stats_sorted, np.arange(len(calorie_stats_sorted))))\n",
    "\n",
    "for i in np.arange(len(calorie_stats_sorted)):\n",
    "    if np.percentile(calorie_stats_sorted, i) <= 60 :\n",
    "        print(np.percentile(calorie_stats_sorted, i))\n",
    "    else :\n",
    "        nth_percentile = np.percentile(calorie_stats_sorted, i)\n",
    "        break\n",
    "print(nth_percentile)\n",
    "    "
   ]
  },
  {
   "cell_type": "markdown",
   "id": "a2a3c5aa",
   "metadata": {},
   "source": [
    "6. Хотя процентиль показывает нам, что у большинства конкурентов количество калорий намного выше, это неудобная концепция для использования в маркетинговых материалах.\n",
    "\n",
    "Вместо этого давайте подсчитаем процент хлопьев, в которых содержится более 60 калорий на порцию. Сохраните свой ответ в переменной more_calories и распечатайте его"
   ]
  },
  {
   "cell_type": "code",
   "execution_count": 18,
   "id": "ade0f6ea",
   "metadata": {},
   "outputs": [
    {
     "name": "stdout",
     "output_type": "stream",
     "text": [
      "96.1038961038961\n"
     ]
    }
   ],
   "source": [
    "# your code\n",
    "more_calories=(len(calorie_stats_sorted)-i+1)/len(calorie_stats_sorted)*100\n",
    "print(more_calories)"
   ]
  },
  {
   "cell_type": "markdown",
   "id": "1735d65b",
   "metadata": {},
   "source": [
    "7. Это действительно высокий процент. Это будет очень полезно, когда мы будем продвигать CrunchieMunchies. Но один вопрос заключается в том, насколько велики различия в наборе данных? Можем ли мы сделать обобщение, что в большинстве злаков содержится около 100 калорий или разброс еще больше?\n",
    "\n",
    "Рассчитайте величину отклонения, найдя стандартное отклонение, Сохраните свой ответ в calorie_std и распечатайте на терминале. Как мы можем включить эту ценность в наш анализ?"
   ]
  },
  {
   "cell_type": "code",
   "execution_count": 19,
   "id": "85c8df1f",
   "metadata": {},
   "outputs": [
    {
     "name": "stdout",
     "output_type": "stream",
     "text": [
      "19.35718533390827\n"
     ]
    }
   ],
   "source": [
    "# your code\n",
    "calorie_std=np.std(calorie_stats_sorted)\n",
    "print(calorie_std)"
   ]
  },
  {
   "cell_type": "markdown",
   "id": "037455c5",
   "metadata": {},
   "source": [
    "8. Напишите короткий абзац, в котором кратко изложите свои выводы и то, как, по вашему мнению, эти данные могут быть использованы в интересах Mycrunch при маркетинге CrunchieMunchies."
   ]
  },
  {
   "cell_type": "markdown",
   "id": "a6efc3f1",
   "metadata": {},
   "source": [
    "# Вывод:\n",
    "## посчитали, что калорийность нашей продукции ниже, чем у 96% конкурентов это отличный аргумент в выборе злаков нашей компании\n",
    "##### было бы неплохо еще показать насколько процентов в среднем ниже калорийность\n",
    "## также высчитали среднее значение и медиану и сравнили их(сильных различий нет), посчитали отклонение\n",
    "##### если высчитать коэффициент вариации, то можно будет судить о том как значения из выборки отличаются от среднего значения"
   ]
  }
 ],
 "metadata": {
  "kernelspec": {
   "display_name": "Python 3 (ipykernel)",
   "language": "python",
   "name": "python3"
  },
  "language_info": {
   "codemirror_mode": {
    "name": "ipython",
    "version": 3
   },
   "file_extension": ".py",
   "mimetype": "text/x-python",
   "name": "python",
   "nbconvert_exporter": "python",
   "pygments_lexer": "ipython3",
   "version": "3.10.5"
  }
 },
 "nbformat": 4,
 "nbformat_minor": 5
}
