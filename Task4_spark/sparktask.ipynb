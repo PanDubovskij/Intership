{
 "cells": [
  {
   "cell_type": "code",
   "execution_count": 102,
   "id": "7b244a1d",
   "metadata": {},
   "outputs": [],
   "source": [
    "from pyspark.sql import SparkSession, Window, functions as fun"
   ]
  },
  {
   "cell_type": "code",
   "execution_count": 84,
   "id": "1df4388c",
   "metadata": {},
   "outputs": [],
   "source": [
    "spark = SparkSession.\\\n",
    "    builder.\\\n",
    "    appName(\"spaaaaaark\").\\\n",
    "    config(\"spark.jars\", \"postgresql-42.4.0.jar\").master(\"local\").\\\n",
    "    getOrCreate()"
   ]
  },
  {
   "cell_type": "code",
   "execution_count": 85,
   "id": "321fa986",
   "metadata": {},
   "outputs": [],
   "source": [
    "df_reader = spark.read\\\n",
    "    .format(\"jdbc\")\\\n",
    "    .option(\"url\", \"jdbc:postgresql://localhost:8080/pagila\")\\\n",
    "    .option(\"user\", \"postgres\")\\\n",
    "    .option(\"password\", \"secret\")\\\n",
    "    .option(\"driver\", \"org.postgresql.Driver\")\n"
   ]
  },
  {
   "cell_type": "code",
   "execution_count": 86,
   "id": "df97292f",
   "metadata": {},
   "outputs": [],
   "source": [
    "actor = df_reader.option('dbtable', 'actor').load()\n",
    "address = df_reader.option('dbtable', 'address').load()\n",
    "category = df_reader.option('dbtable', 'category').load()\n",
    "city = df_reader.option('dbtable', 'city').load()\n",
    "country = df_reader.option('dbtable', 'country').load()\n",
    "customer = df_reader.option('dbtable', 'customer').load()\n",
    "film = df_reader.option('dbtable', 'film').load()\n",
    "film_actor = df_reader.option('dbtable', 'film_actor').load()\n",
    "film_category = df_reader.option('dbtable', 'film_category').load()\n",
    "inventory = df_reader.option('dbtable', 'inventory').load()\n",
    "language = df_reader.option('dbtable', 'language').load()\n",
    "payment = df_reader.option('dbtable', 'payment').load()\n",
    "rental = df_reader.option('dbtable', 'rental').load()\n",
    "staff = df_reader.option('dbtable', 'staff').load()\n",
    "store = df_reader.option('dbtable', 'store').load()"
   ]
  },
  {
   "cell_type": "code",
   "execution_count": 87,
   "id": "0345fa81",
   "metadata": {},
   "outputs": [
    {
     "name": "stdout",
     "output_type": "stream",
     "text": [
      "+--------+----------+------------+-------------------+\n",
      "|actor_id|first_name|   last_name|        last_update|\n",
      "+--------+----------+------------+-------------------+\n",
      "|       1|  PENELOPE|     GUINESS|2020-02-15 12:34:33|\n",
      "|       2|      NICK|    WAHLBERG|2020-02-15 12:34:33|\n",
      "|       3|        ED|       CHASE|2020-02-15 12:34:33|\n",
      "|       4|  JENNIFER|       DAVIS|2020-02-15 12:34:33|\n",
      "|       5|    JOHNNY|LOLLOBRIGIDA|2020-02-15 12:34:33|\n",
      "+--------+----------+------------+-------------------+\n",
      "only showing top 5 rows\n",
      "\n"
     ]
    }
   ],
   "source": [
    "actor.show(5)"
   ]
  },
  {
   "cell_type": "code",
   "execution_count": 88,
   "id": "b90d0937",
   "metadata": {},
   "outputs": [
    {
     "name": "stdout",
     "output_type": "stream",
     "text": [
      "+-----------+-----+\n",
      "|       name|count|\n",
      "+-----------+-----+\n",
      "|     Sports|   74|\n",
      "|    Foreign|   73|\n",
      "|     Family|   69|\n",
      "|Documentary|   68|\n",
      "|  Animation|   66|\n",
      "|     Action|   64|\n",
      "|        New|   63|\n",
      "|      Drama|   62|\n",
      "|      Games|   61|\n",
      "|     Sci-Fi|   61|\n",
      "|   Children|   60|\n",
      "|     Comedy|   58|\n",
      "|     Travel|   57|\n",
      "|   Classics|   57|\n",
      "|     Horror|   56|\n",
      "|      Music|   51|\n",
      "+-----------+-----+\n",
      "\n"
     ]
    }
   ],
   "source": [
    "# task1\n",
    "\n",
    "category.join(film_category, on='category_id')\\\n",
    "    .groupBy('name')\\\n",
    "    .count()\\\n",
    "    .orderBy(fun.col('count').desc())\\\n",
    "    .show()"
   ]
  },
  {
   "cell_type": "code",
   "execution_count": 89,
   "id": "328d083b",
   "metadata": {},
   "outputs": [
    {
     "name": "stdout",
     "output_type": "stream",
     "text": [
      "+----------+---------+---+\n",
      "|first_name|last_name|all|\n",
      "+----------+---------+---+\n",
      "|     SUSAN|    DAVIS|242|\n",
      "|      GINA|DEGENERES|209|\n",
      "|    WALTER|     TORN|201|\n",
      "|      MARY|   KEITEL|192|\n",
      "|   MATTHEW|   CARREY|190|\n",
      "|   GROUCHO|    DUNST|183|\n",
      "|    ANGELA|   HUDSON|183|\n",
      "|    SANDRA|   KILMER|181|\n",
      "|     HENRY|    BERRY|180|\n",
      "|       UMA|     WOOD|179|\n",
      "+----------+---------+---+\n",
      "only showing top 10 rows\n",
      "\n"
     ]
    }
   ],
   "source": [
    "# task2\n",
    "\n",
    "actor.join(film_actor, on='actor_id')\\\n",
    "    .join(film, on='film_id')\\\n",
    "    .groupBy('first_name', 'last_name')\\\n",
    "    .agg(fun.sum('rental_duration').alias('all'))\\\n",
    "    .orderBy(fun.col('all').desc())\\\n",
    "    .show(10)"
   ]
  },
  {
   "cell_type": "code",
   "execution_count": 90,
   "id": "f1ee544a",
   "metadata": {},
   "outputs": [
    {
     "name": "stdout",
     "output_type": "stream",
     "text": [
      "+------+---------+\n",
      "|  name|total_sum|\n",
      "+------+---------+\n",
      "|Sports|  5314.21|\n",
      "+------+---------+\n",
      "only showing top 1 row\n",
      "\n"
     ]
    }
   ],
   "source": [
    "# task3\n",
    "\n",
    "category.join(film_category, on='category_id')\\\n",
    "    .join(film, on='film_id')\\\n",
    "    .join(inventory, on='film_id')\\\n",
    "    .join(rental, on='inventory_id')\\\n",
    "    .join(payment, on='rental_id')\\\n",
    "    .groupBy('name')\\\n",
    "    .agg(fun.sum('amount').alias('total_sum'))\\\n",
    "    .orderBy(fun.col('total_sum').desc())\\\n",
    "    .show(1)"
   ]
  },
  {
   "cell_type": "code",
   "execution_count": 91,
   "id": "d4a62222",
   "metadata": {},
   "outputs": [
    {
     "name": "stdout",
     "output_type": "stream",
     "text": [
      "+--------------------+\n",
      "|               title|\n",
      "+--------------------+\n",
      "|      ALICE FANTASIA|\n",
      "|         APOLLO TEEN|\n",
      "|      ARGONAUTS TOWN|\n",
      "|       ARK RIDGEMONT|\n",
      "|ARSENIC INDEPENDENCE|\n",
      "|   BOONDOCK BALLROOM|\n",
      "|       BUTCH PANTHER|\n",
      "|       CATCH AMISTAD|\n",
      "| CHINATOWN GLADIATOR|\n",
      "|      CHOCOLATE DUCK|\n",
      "|COMMANDMENTS EXPRESS|\n",
      "|    CROSSING DIVORCE|\n",
      "|     CROWDS TELEMARK|\n",
      "|    CRYSTAL BREAKING|\n",
      "|          DAZED PUNK|\n",
      "|DELIVERANCE MULHO...|\n",
      "|   FIREHOUSE VIETNAM|\n",
      "|       FLOATS GARDEN|\n",
      "|FRANKENSTEIN STRA...|\n",
      "|  GLADIATOR WESTWARD|\n",
      "+--------------------+\n",
      "only showing top 20 rows\n",
      "\n"
     ]
    }
   ],
   "source": [
    "# task4\n",
    "\n",
    "film.join(inventory, on='film_id', how='left')\\\n",
    "    .groupby('film_id', 'title')\\\n",
    "    .agg(fun.count('inventory_id').alias('number'))\\\n",
    "    .filter(fun.col('number') == 0)\\\n",
    "    .select(fun.col('title'))\\\n",
    "    .orderBy('title')\\\n",
    "    .show()"
   ]
  },
  {
   "cell_type": "code",
   "execution_count": 92,
   "id": "0fbd60f1",
   "metadata": {},
   "outputs": [
    {
     "name": "stdout",
     "output_type": "stream",
     "text": [
      "+----------+---------+-----+\n",
      "|first_name|last_name|count|\n",
      "+----------+---------+-----+\n",
      "|     HELEN|   VOIGHT|    7|\n",
      "|     SUSAN|    DAVIS|    6|\n",
      "|     KEVIN|  GARLAND|    5|\n",
      "|     RALPH|     CRUZ|    5|\n",
      "|      MARY|    TANDY|    5|\n",
      "|    WHOOPI|     HURT|    5|\n",
      "+----------+---------+-----+\n",
      "\n"
     ]
    }
   ],
   "source": [
    "# task5\n",
    "\n",
    "actor_table = category.join(film_category, on='category_id')\\\n",
    "    .join(film, on='film_id')\\\n",
    "    .join(film_actor, on='film_id')\\\n",
    "    .join(actor, on='actor_id')\\\n",
    "    .where(fun.col('name') == 'Children')\\\n",
    "    .groupBy('first_name', 'last_name').count()\n",
    "\n",
    "count_filter = actor_table.select(fun.col('count'))\\\n",
    "    .orderBy(fun.col('count').desc())\\\n",
    "    .distinct()\\\n",
    "    .limit(3)\\\n",
    "    .rdd.map(lambda row : row[0]).collect()\n",
    "\n",
    "actor_table.filter(fun.col('count').isin(count_filter)).orderBy(fun.col('count').desc()).show()"
   ]
  },
  {
   "cell_type": "code",
   "execution_count": 93,
   "id": "92cae809",
   "metadata": {},
   "outputs": [
    {
     "name": "stdout",
     "output_type": "stream",
     "text": [
      "+------------------+------+--------+\n",
      "|              city|active|inactive|\n",
      "+------------------+------+--------+\n",
      "|         Pingxiang|     0|       1|\n",
      "|       Szkesfehrvr|     0|       1|\n",
      "|  Charlotte Amalie|     0|       1|\n",
      "|         Najafabad|     0|       1|\n",
      "|           Wroclaw|     0|       1|\n",
      "|            Ktahya|     0|       1|\n",
      "|           Bat Yam|     0|       1|\n",
      "|   Southend-on-Sea|     0|       1|\n",
      "|            Amroha|     0|       1|\n",
      "|            Kamyin|     0|       1|\n",
      "|          Xiangfan|     0|       1|\n",
      "|            Daxian|     0|       1|\n",
      "|          Uluberia|     0|       1|\n",
      "|     Coatzacoalcos|     0|       1|\n",
      "|        Kumbakonam|     0|       1|\n",
      "|A Corua (La Corua)|     1|       0|\n",
      "|          Fengshan|     1|       0|\n",
      "|          Chisinau|     1|       0|\n",
      "|           Udaipur|     1|       0|\n",
      "|              Linz|     1|       0|\n",
      "+------------------+------+--------+\n",
      "only showing top 20 rows\n",
      "\n"
     ]
    }
   ],
   "source": [
    "# task6\n",
    "\n",
    "city.join(address, on='city_id')\\\n",
    "    .join(customer, on='address_id')\\\n",
    "    .groupBy('city')\\\n",
    "    .agg(fun.sum(fun.when(customer.active == 1, 1).otherwise(0)).alias('active'),\n",
    "        fun.sum(fun.when(customer.active == 0, 1).otherwise(0)).alias('inactive'))\\\n",
    "    .orderBy(fun.col('inactive').desc())\\\n",
    "    .show()"
   ]
  },
  {
   "cell_type": "code",
   "execution_count": 105,
   "id": "b5daf470",
   "metadata": {},
   "outputs": [
    {
     "name": "stdout",
     "output_type": "stream",
     "text": [
      "+-------------+--------------------+\n",
      "|category_name|              period|\n",
      "+-------------+--------------------+\n",
      "|       Sports|INTERVAL '515 00:...|\n",
      "|      Foreign|INTERVAL '269 16:...|\n",
      "+-------------+--------------------+\n",
      "\n"
     ]
    }
   ],
   "source": [
    "# task7\n",
    "\n",
    "table = city.join(address, on='city_id')\\\n",
    "    .join(customer, on='address_id')\\\n",
    "    .join(rental, on='customer_id')\\\n",
    "    .join(inventory, on='inventory_id')\\\n",
    "    .join(film, on='film_id')\\\n",
    "    .join(film_category, on='film_id')\\\n",
    "    .join(category, on='category_id')\\\n",
    "    .filter(fun.col('return_date').isNotNull())\\\n",
    "    .select(fun.col('name').alias('category_name'), fun.col('return_date'), fun.col('rental_date'), fun.col('city'))\n",
    "\n",
    "category_table1 = table\\\n",
    "    .filter(fun.col('city').like('A%') | fun.col('city').like('a%'))\\\n",
    "    .groupBy('category_name')\\\n",
    "    .agg(fun.sum(fun.col('return_date') - fun.col('rental_date')).alias('period'))\\\n",
    "    .orderBy(fun.col('period').desc())\\\n",
    "    .limit(1)\n",
    "\n",
    "category_table2 = table\\\n",
    "    .filter(fun.col('city').like('%-%'))\\\n",
    "    .groupBy('category_name')\\\n",
    "    .agg(fun.sum(fun.col('return_date') - fun.col('rental_date')).alias('period'))\\\n",
    "    .orderBy(fun.col('period').desc())\\\n",
    "    .limit(1)\n",
    "\n",
    "category_table1.union(category_table2).show()"
   ]
  },
  {
   "cell_type": "code",
   "execution_count": null,
   "id": "c6c88e87",
   "metadata": {},
   "outputs": [],
   "source": []
  }
 ],
 "metadata": {
  "kernelspec": {
   "display_name": "Python 3 (ipykernel)",
   "language": "python",
   "name": "python3"
  },
  "language_info": {
   "codemirror_mode": {
    "name": "ipython",
    "version": 3
   },
   "file_extension": ".py",
   "mimetype": "text/x-python",
   "name": "python",
   "nbconvert_exporter": "python",
   "pygments_lexer": "ipython3",
   "version": "3.10.4"
  }
 },
 "nbformat": 4,
 "nbformat_minor": 5
}
